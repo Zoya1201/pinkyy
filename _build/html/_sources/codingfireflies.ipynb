{
 "cells": [
  {
   "cell_type": "markdown",
   "id": "2a1e6395-d674-4fdf-aa7d-c9b438753af6",
   "metadata": {},
   "source": [
    "# Codes"
   ]
  },
  {
   "cell_type": "code",
   "execution_count": null,
   "id": "5a5a9ea3-53f0-4ef6-b935-36ace54376f4",
   "metadata": {},
   "outputs": [],
   "source": [
    "# A micro:bit Firefly.\n",
    "# By Nicholas H.Tollervey. Released to the public domain.\n",
    "import radio\n",
    "import random\n",
    "from microbit import display, Image, button_a, sleep\n",
    "\n",
    "# Create the \"flash\" animation frames. Can you work out how it's done?\n",
    "flash = [Image().invert()*(i/9) for i in range(9, -1, -1)]\n",
    "\n",
    "# The radio won't work unless it's switched on.\n",
    "radio.on()\n",
    "\n",
    "# Event loop.\n",
    "while True:\n",
    "    # Button A sends a \"flash\" message.\n",
    "    if button_a.was_pressed():\n",
    "        radio.send('flash')  # a-ha\n",
    "    # Read any incoming messages.\n",
    "    incoming = radio.receive()\n",
    "    if incoming == 'flash':\n",
    "        # If there's an incoming \"flash\" message display\n",
    "        # the firefly flash animation after a random short\n",
    "        # pause.\n",
    "        sleep(random.randint(50, 350))\n",
    "        display.show(flash, delay=100, wait=False)\n",
    "        # Randomly re-broadcast the flash message after a\n",
    "        # slight delay.\n",
    "        if random.randint(0, 9) == 0:\n",
    "            sleep(500)\n",
    "            radio.send('flash')  # a-ha"
   ]
  },
  {
   "cell_type": "code",
   "execution_count": null,
   "id": "076934e4-474e-4a0e-a351-ad3e0ec1227a",
   "metadata": {},
   "outputs": [],
   "source": []
  }
 ],
 "metadata": {
  "kernelspec": {
   "display_name": "Python 3 (ipykernel)",
   "language": "python",
   "name": "python3"
  },
  "language_info": {
   "codemirror_mode": {
    "name": "ipython",
    "version": 3
   },
   "file_extension": ".py",
   "mimetype": "text/x-python",
   "name": "python",
   "nbconvert_exporter": "python",
   "pygments_lexer": "ipython3",
   "version": "3.10.2"
  }
 },
 "nbformat": 4,
 "nbformat_minor": 5
}
