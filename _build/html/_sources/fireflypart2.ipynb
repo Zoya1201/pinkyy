{
 "cells": [
  {
   "cell_type": "markdown",
   "id": "0d7fdcd4-dd3e-4ef9-83dc-4c45178bf037",
   "metadata": {},
   "source": [
    "# Fireflies part 2"
   ]
  },
  {
   "cell_type": "markdown",
   "id": "36652db8-73e6-450f-ac03-98af1178555e",
   "metadata": {},
   "source": [
    "# what to do?"
   ]
  },
  {
   "cell_type": "markdown",
   "id": "36e42fe6-8e0a-4d15-bb00-45d6761f9cf2",
   "metadata": {},
   "source": [
    "- We want to create virtual fireflies using multiple micro:bits (each micro:bit acts as a firefly)"
   ]
  },
  {
   "cell_type": "markdown",
   "id": "ab3e560d-dd66-4ce0-96d8-da8e43752e85",
   "metadata": {},
   "source": [
    "# Code the firefly"
   ]
  },
  {
   "cell_type": "code",
   "execution_count": 4,
   "id": "621bb6cf-edd8-4043-ad6f-24f914c5908b",
   "metadata": {},
   "outputs": [
    {
     "ename": "ModuleNotFoundError",
     "evalue": "No module named 'microbit'",
     "output_type": "error",
     "traceback": [
      "\u001b[1;31m---------------------------------------------------------------------------\u001b[0m",
      "\u001b[1;31mModuleNotFoundError\u001b[0m                       Traceback (most recent call last)",
      "Input \u001b[1;32mIn [4]\u001b[0m, in \u001b[0;36m<module>\u001b[1;34m\u001b[0m\n\u001b[0;32m      1\u001b[0m \u001b[38;5;66;03m# Add your Python code here. E.g.\u001b[39;00m\n\u001b[1;32m----> 2\u001b[0m \u001b[38;5;28;01mfrom\u001b[39;00m \u001b[38;5;21;01mmicrobit\u001b[39;00m \u001b[38;5;28;01mimport\u001b[39;00m \u001b[38;5;241m*\u001b[39m\n\u001b[0;32m      3\u001b[0m \u001b[38;5;28;01mimport\u001b[39;00m \u001b[38;5;21;01mradio\u001b[39;00m\n\u001b[0;32m      6\u001b[0m \u001b[38;5;66;03m# the clock ticker\u001b[39;00m\n",
      "\u001b[1;31mModuleNotFoundError\u001b[0m: No module named 'microbit'"
     ]
    }
   ],
   "source": [
    "# Add your Python code here. E.g.\n",
    "from microbit import *\n",
    "import radio\n",
    "\n",
    "\n",
    "# the clock ticker\n",
    "clock = 0\n",
    "radio.on()\n",
    "radio.config(power=1,group=12)\n",
    "\n",
    "# Create the \"flash\" animation frames.\n",
    "flash = [Image().invert()*(i/9) for i in range(9, -1, -1)]\n",
    "\n",
    "while True:\n",
    "    incoming = radio.receive()\n",
    "    if incoming == 'flash':\n",
    "        # If a nearby firefly just flashed, increment this firefly's clock to nudge it closer to flashing also\n",
    "        clock += 1\n",
    "\n",
    "    if clock >= 8:\n",
    "        radio.send(\"flash\")\n",
    "        #flash\n",
    "        #display.show(flash, delay=100, wait=False)\n",
    "        display.show(flash, delay=100, wait=False)\n",
    "        sleep(200)\n",
    "        clock = 0\n",
    "    else:\n",
    "        sleep(100)\n",
    "        clock += 1"
   ]
  },
  {
   "cell_type": "code",
   "execution_count": null,
   "id": "71b38ccf-6306-45be-ae9d-e5fe4bcc2eab",
   "metadata": {},
   "outputs": [],
   "source": [
    "# Video"
   ]
  },
  {
   "cell_type": "code",
   "execution_count": 2,
   "id": "7a378562-38bb-4610-baa0-cd3368baaa1d",
   "metadata": {},
   "outputs": [
    {
     "data": {
      "image/jpeg": "[encoded data removed]",
      "text/html": [
       "\n",
       "        <iframe\n",
       "            width=\"800\"\n",
       "            height=\"300\"\n",
       "            src=\"https://www.youtube.com/embed/ZGvtnE1Wy6U\"\n",
       "            frameborder=\"0\"\n",
       "            allowfullscreen\n",
       "            \n",
       "        ></iframe>\n",
       "        "
      ],
      "text/plain": [
       "<IPython.lib.display.YouTubeVideo at 0x23cff7c9a50>"
      ]
     },
     "execution_count": 2,
     "metadata": {},
     "output_type": "execute_result"
    }
   ],
   "source": [
    "from IPython.display import YouTubeVideo\n",
    "\n",
    "YouTubeVideo('ZGvtnE1Wy6U', width=800, height=300)"
   ]
  },
  {
   "cell_type": "markdown",
   "id": "0543c962-abd3-4e24-8f6e-73a60e995e70",
   "metadata": {},
   "source": [
    "# Image"
   ]
  },
  {
   "cell_type": "markdown",
   "id": "32361167-fe2a-4887-b01e-c175bba1847c",
   "metadata": {},
   "source": [
    "![alternative text]![](firefly.jpg)"
   ]
  },
  {
   "cell_type": "markdown",
   "id": "1e91b8ef-8cdc-4fc4-a05a-112254bb678d",
   "metadata": {},
   "source": [
    "# python editor"
   ]
  },
  {
   "cell_type": "code",
   "execution_count": 1,
   "id": "d8636d4b-adec-4a64-8a83-6feb6abdc5de",
   "metadata": {},
   "outputs": [
    {
     "name": "stderr",
     "output_type": "stream",
     "text": [
      "C:\\Users\\zoya\\turingenv\\lib\\site-packages\\IPython\\core\\display.py:414: UserWarning: Consider using IPython.display.IFrame instead\n",
      "  warnings.warn(\"Consider using IPython.display.IFrame instead\")\n"
     ]
    },
    {
     "data": {
      "text/html": [
       "<iframe src=\"https://jackbonk.github.io/editor/\" allow=\"usb;serial\"  width=800 height=500></iframe>"
      ],
      "text/plain": [
       "<IPython.core.display.HTML object>"
      ]
     },
     "execution_count": 1,
     "metadata": {},
     "output_type": "execute_result"
    }
   ],
   "source": [
    "from IPython import display\n",
    "display.HTML('<iframe src=\"https://jackbonk.github.io/editor/\" allow=\"usb;serial\"  width=800 height=500></iframe>')"
   ]
  },
  {
   "cell_type": "markdown",
   "id": "d7c63a49-45d1-4c06-8b2c-5dafce9298c7",
   "metadata": {},
   "source": [
    "# link"
   ]
  },
  {
   "cell_type": "markdown",
   "id": "0c60b9af-c481-4a83-a636-798e65061335",
   "metadata": {},
   "source": [
    "[firefliespart2](https://makecode.microbit.org/projects/fireflies)"
   ]
  },
  {
   "cell_type": "code",
   "execution_count": null,
   "id": "27681c07-5f92-46e8-abdd-c06e1bafb523",
   "metadata": {},
   "outputs": [],
   "source": []
  }
 ],
 "metadata": {
  "kernelspec": {
   "display_name": "Python 3 (ipykernel)",
   "language": "python",
   "name": "python3"
  },
  "language_info": {
   "codemirror_mode": {
    "name": "ipython",
    "version": 3
   },
   "file_extension": ".py",
   "mimetype": "text/x-python",
   "name": "python",
   "nbconvert_exporter": "python",
   "pygments_lexer": "ipython3",
   "version": "3.10.2"
  }
 },
 "nbformat": 4,
 "nbformat_minor": 5
}
