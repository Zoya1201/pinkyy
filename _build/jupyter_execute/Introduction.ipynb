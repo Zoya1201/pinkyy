{
 "cells": [
  {
   "cell_type": "markdown",
   "id": "4e6d58d2-c78d-4b3d-8b2a-d31f21de8eba",
   "metadata": {},
   "source": [
    "# Introduction"
   ]
  },
  {
   "cell_type": "markdown",
   "id": "e3770d74-037f-49a2-89ca-5e632c3de611",
   "metadata": {},
   "source": [
    "This book is for those students who are interested in fireflies microbit, they can see the examples, codes and steps to learn about the fireflies microbit.\n",
    "This book also includes images, videos and python editor. \n",
    "There are two examples of fireflies microbit in this book, it can help students to learn fireflies microbit.\n",
    "One example is students can press button A to flash microbit, for that we will need two computers and one power bank.\n",
    "Another example is students can use microbit without pressing anything, it will automatically flashing microbits.\n",
    "Students make the connections between abstract ideas and real world outcomes by working with software and hardware together to learn iot with microbits"
   ]
  },
  {
   "cell_type": "markdown",
   "id": "6a961b51-ab84-44fa-a954-4e4d14f33d39",
   "metadata": {},
   "source": [
    "# Learning Objective"
   ]
  },
  {
   "cell_type": "markdown",
   "id": "ef5a8868-9221-4f73-8a91-8095cc72f7d6",
   "metadata": {},
   "source": [
    "- learn microbit by pressing button A\n",
    "- learn microbit by not pressing any button, it will flash itself\n",
    "- learn using codes"
   ]
  },
  {
   "cell_type": "markdown",
   "id": "0dfb050c-b41d-4202-87ec-04711dc32e97",
   "metadata": {},
   "source": [
    "# What you will learn? "
   ]
  },
  {
   "cell_type": "code",
   "execution_count": null,
   "id": "6151e9a4-c389-4db6-accc-fd3af3f254b1",
   "metadata": {},
   "outputs": [],
   "source": []
  },
  {
   "cell_type": "markdown",
   "id": "ec4a9563-6108-4a8f-a80c-e2913aa06207",
   "metadata": {},
   "source": [
    "- how to use radio communication between micro:bits to trigger events\n",
    "- that the micro:bit's LED display can be made brighter and dimmer\n",
    "- how to use random numbers and chance to mimic real-world behaviour"
   ]
  },
  {
   "cell_type": "markdown",
   "id": "3b8d6e09-4ad6-477a-8609-3d5d8ec36b2b",
   "metadata": {},
   "source": [
    "# What is it?"
   ]
  },
  {
   "cell_type": "markdown",
   "id": "5250d448-65be-4fc9-898a-bd0727bcd76f",
   "metadata": {},
   "source": [
    "Fireflies are insects that use bioluminescence (light made in their bodies) to communicate with each other. \n",
    "\n",
    "Flash the program on at least three micro:bits in the same room. Press button A on any micro:bit and you should see a 'swarm' of micro:bits lighting up as they receive a radio message. It works best in a dark room with lots of micro:bits. \n",
    "\n",
    "Once a micro:bit has received the radio message it has a one in ten chance of transmitting its own radio message and starting another wave of glowing lights in the other micro:bits. \n",
    "\n",
    "When the lights eventually stop, press button A on any micro:bit to restart the 'swarm' of communication. "
   ]
  },
  {
   "cell_type": "markdown",
   "id": "110f324d-4299-464f-9a3e-0666b3273ca1",
   "metadata": {},
   "source": [
    "# What you need? "
   ]
  },
  {
   "cell_type": "markdown",
   "id": "67df675f-b5da-4f61-819f-500a442500ec",
   "metadata": {},
   "source": [
    "- at least 3 micro:bits, the more the better\n",
    "- micro:bit battery packs (optional)"
   ]
  },
  {
   "cell_type": "markdown",
   "id": "09158000-df9e-414d-bffd-899dbda421ac",
   "metadata": {},
   "source": [
    "```{note} \n",
    "you will need\n",
    "- 3 microbit\n",
    "- a battery pack (if necessary)\n",
    "```"
   ]
  },
  {
   "cell_type": "markdown",
   "id": "5f4e8f8d-2ffd-454d-b585-c260d333c1c3",
   "metadata": {},
   "source": [
    "# Conclusion"
   ]
  },
  {
   "cell_type": "markdown",
   "id": "708ce02c-80c5-4552-8a6f-db05a765c3f7",
   "metadata": {},
   "source": [
    "I have done all the steps and example, it was very interseting and fun, i hope you will also find it interesting and can able to do all the examples clearly"
   ]
  },
  {
   "cell_type": "code",
   "execution_count": null,
   "id": "ac831445-eca3-44a4-85ce-437c5173d52b",
   "metadata": {},
   "outputs": [],
   "source": []
  }
 ],
 "metadata": {
  "kernelspec": {
   "display_name": "Python 3 (ipykernel)",
   "language": "python",
   "name": "python3"
  },
  "language_info": {
   "codemirror_mode": {
    "name": "ipython",
    "version": 3
   },
   "file_extension": ".py",
   "mimetype": "text/x-python",
   "name": "python",
   "nbconvert_exporter": "python",
   "pygments_lexer": "ipython3",
   "version": "3.10.2"
  }
 },
 "nbformat": 4,
 "nbformat_minor": 5
}