{
 "cells": [
  {
   "cell_type": "markdown",
   "id": "2a1e6395-d674-4fdf-aa7d-c9b438753af6",
   "metadata": {},
   "source": [
    "# Codes"
   ]
  },
  {
   "cell_type": "code",
   "execution_count": 1,
   "id": "5a5a9ea3-53f0-4ef6-b935-36ace54376f4",
   "metadata": {},
   "outputs": [
    {
     "ename": "ModuleNotFoundError",
     "evalue": "No module named 'radio'",
     "output_type": "error",
     "traceback": [
      "\u001b[1;31m---------------------------------------------------------------------------\u001b[0m",
      "\u001b[1;31mModuleNotFoundError\u001b[0m                       Traceback (most recent call last)",
      "Input \u001b[1;32mIn [1]\u001b[0m, in \u001b[0;36m<module>\u001b[1;34m\u001b[0m\n\u001b[0;32m      1\u001b[0m \u001b[38;5;66;03m# A micro:bit Firefly.\u001b[39;00m\n\u001b[0;32m      2\u001b[0m \u001b[38;5;66;03m# By Nicholas H.Tollervey. Released to the public domain.\u001b[39;00m\n\u001b[1;32m----> 3\u001b[0m \u001b[38;5;28;01mimport\u001b[39;00m \u001b[38;5;21;01mradio\u001b[39;00m\n\u001b[0;32m      4\u001b[0m \u001b[38;5;28;01mimport\u001b[39;00m \u001b[38;5;21;01mrandom\u001b[39;00m\n\u001b[0;32m      5\u001b[0m \u001b[38;5;28;01mfrom\u001b[39;00m \u001b[38;5;21;01mmicrobit\u001b[39;00m \u001b[38;5;28;01mimport\u001b[39;00m display, Image, button_a, sleep\n",
      "\u001b[1;31mModuleNotFoundError\u001b[0m: No module named 'radio'"
     ]
    }
   ],
   "source": [
    "# A micro:bit Firefly.\n",
    "# By Nicholas H.Tollervey. Released to the public domain.\n",
    "import radio\n",
    "import random\n",
    "from microbit import display, Image, button_a, sleep\n",
    "\n",
    "# Create the \"flash\" animation frames. Can you work out how it's done?\n",
    "flash = [Image().invert()*(i/9) for i in range(9, -1, -1)]\n",
    "\n",
    "# The radio won't work unless it's switched on.\n",
    "radio.on()\n",
    "\n",
    "# Event loop.\n",
    "while True:\n",
    "    # Button A sends a \"flash\" message.\n",
    "    if button_a.was_pressed():\n",
    "        radio.send('flash')  # a-ha\n",
    "    # Read any incoming messages.\n",
    "    incoming = radio.receive()\n",
    "    if incoming == 'flash':\n",
    "        # If there's an incoming \"flash\" message display\n",
    "        # the firefly flash animation after a random short\n",
    "        # pause.\n",
    "        sleep(random.randint(50, 350))\n",
    "        display.show(flash, delay=100, wait=False)\n",
    "        # Randomly re-broadcast the flash message after a\n",
    "        # slight delay.\n",
    "        if random.randint(0, 9) == 0:\n",
    "            sleep(500)\n",
    "            radio.send('flash')  # a-ha"
   ]
  },
  {
   "cell_type": "code",
   "execution_count": null,
   "id": "076934e4-474e-4a0e-a351-ad3e0ec1227a",
   "metadata": {},
   "outputs": [],
   "source": []
  }
 ],
 "metadata": {
  "kernelspec": {
   "display_name": "Python 3 (ipykernel)",
   "language": "python",
   "name": "python3"
  },
  "language_info": {
   "codemirror_mode": {
    "name": "ipython",
    "version": 3
   },
   "file_extension": ".py",
   "mimetype": "text/x-python",
   "name": "python",
   "nbconvert_exporter": "python",
   "pygments_lexer": "ipython3",
   "version": "3.10.2"
  }
 },
 "nbformat": 4,
 "nbformat_minor": 5
}