{
 "cells": [
  {
   "cell_type": "markdown",
   "id": "f5e7a4c3-b79b-4fe4-bfdf-86aaae6d8778",
   "metadata": {},
   "source": [
    "# conclusion"
   ]
  },
  {
   "cell_type": "markdown",
   "id": "84d10d1b-4afc-490d-842a-ceddd913ccf9",
   "metadata": {},
   "source": [
    "I have done all the steps and example, it was very interseting and fun, i hope you will also find it interesting and can able to do all the examples clearly, i have add the images, videos and links for your refernces, you can refer to the link for better understanding of the fireflies example, you can use python editor too"
   ]
  },
  {
   "cell_type": "code",
   "execution_count": null,
   "id": "4be0f36a-99d0-4205-92e3-54b781cff718",
   "metadata": {},
   "outputs": [],
   "source": []
  }
 ],
 "metadata": {
  "kernelspec": {
   "display_name": "Python 3 (ipykernel)",
   "language": "python",
   "name": "python3"
  },
  "language_info": {
   "codemirror_mode": {
    "name": "ipython",
    "version": 3
   },
   "file_extension": ".py",
   "mimetype": "text/x-python",
   "name": "python",
   "nbconvert_exporter": "python",
   "pygments_lexer": "ipython3",
   "version": "3.10.2"
  }
 },
 "nbformat": 4,
 "nbformat_minor": 5
}