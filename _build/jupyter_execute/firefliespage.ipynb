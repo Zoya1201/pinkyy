{
 "cells": [
  {
   "cell_type": "markdown",
   "id": "53c9891d-bbdf-43ca-837e-73e429ff7e47",
   "metadata": {},
   "source": [
    "# Fireflies"
   ]
  },
  {
   "cell_type": "markdown",
   "id": "60121cdf-2395-4dcf-a882-81a391c5e1e3",
   "metadata": {},
   "source": [
    "# Step1: make it"
   ]
  },
  {
   "cell_type": "markdown",
   "id": "7380286a-7a8a-4f22-9ead-d5ac6c469fc1",
   "metadata": {},
   "source": [
    "- The program uses radio communication to send a message 'flash' when you press button A on one of the micro:bits.\n",
    "\n",
    "- When each micro:bit receives the message, it waits a random amount of time between 50 and 350 milliseconds. It then makes the LED display flash bright then gradually dim to mimic the glow of a firefly.\n",
    "\n",
    "- Next it generates a random number between 0 and 9. If the number is 0, it then sends its own 'flash' radio message, triggering more micro:bit fireflies to glow. So it has a one in ten chance of triggering more glows in other micro:bits."
   ]
  },
  {
   "cell_type": "markdown",
   "id": "1d19342a-3a20-4ef1-bfbc-91671ab9a414",
   "metadata": {},
   "source": [
    "# Step2: Image"
   ]
  },
  {
   "cell_type": "markdown",
   "id": "056a3d85-4595-4a1d-9df4-d91fb07bbfda",
   "metadata": {},
   "source": [
    "![display image](fireflies.gif)"
   ]
  },
  {
   "cell_type": "markdown",
   "id": "cbfbbdaa-f256-426c-8183-447a1e8bd7d9",
   "metadata": {},
   "source": [
    "# Video"
   ]
  },
  {
   "cell_type": "code",
   "execution_count": 1,
   "id": "12239a23-88be-430d-ba7c-1d0051d25f66",
   "metadata": {},
   "outputs": [
    {
     "data": {
      "image/jpeg": "[encoded data removed]",
      "text/html": [
       "\n",
       "<iframe\n",
       "    width=\"800\"\n",
       "    height=\"300\"\n",
       "    src=\"https://www.youtube.com/embed/XzZeB4yYnEw\"\n",
       "    frameborder=\"0\"\n",
       "    allowfullscreen\n",
       "\n",
       "></iframe>\n"
      ],
      "text/plain": [
       "<IPython.lib.display.YouTubeVideo at 0x1bd29cba110>"
      ]
     },
     "execution_count": 1,
     "metadata": {
      "filenames": {
       "image/jpeg": "C:\\Users\\zoya\\ibsp\\_build\\jupyter_execute\\firefliespage_6_0.jpg"
      }
     },
     "output_type": "execute_result"
    }
   ],
   "source": [
    "from IPython.display import YouTubeVideo\n",
    "\n",
    "YouTubeVideo('XzZeB4yYnEw', width=800, height=300)"
   ]
  },
  {
   "cell_type": "code",
   "execution_count": null,
   "id": "c5bc2dfd-06dc-4669-9ca3-e06b560f11c6",
   "metadata": {},
   "outputs": [],
   "source": []
  },
  {
   "cell_type": "code",
   "execution_count": 2,
   "id": "2060000b-a569-4702-9f73-80e9aad31242",
   "metadata": {},
   "outputs": [
    {
     "name": "stderr",
     "output_type": "stream",
     "text": [
      "C:\\Users\\zoya\\turingenv\\lib\\site-packages\\IPython\\core\\display.py:414: UserWarning: Consider using IPython.display.IFrame instead\n",
      "  warnings.warn(\"Consider using IPython.display.IFrame instead\")\n"
     ]
    },
    {
     "data": {
      "text/html": [
       "<iframe src=\"https://jackbonk.github.io/editor/\" allow=\"usb;serial\"  width=800 height=500></iframe>"
      ],
      "text/plain": [
       "<IPython.core.display.HTML object>"
      ]
     },
     "execution_count": 2,
     "metadata": {},
     "output_type": "execute_result"
    }
   ],
   "source": [
    "from IPython import display\n",
    "display.HTML('<iframe src=\"https://jackbonk.github.io/editor/\" allow=\"usb;serial\"  width=800 height=500></iframe>')\n"
   ]
  },
  {
   "cell_type": "code",
   "execution_count": 3,
   "id": "03246763-e5c9-46cd-8901-c04b99a3578b",
   "metadata": {},
   "outputs": [],
   "source": [
    "from ruamel.yaml import YAML\n",
    "\n",
    "config_document_1 = \"\"\"\n",
    "title                       : teaching IoT with microbit  # The title of the book\n",
    "logo                        : \"./microbitFirefly2.png\"  # Path to the book logo\n",
    "\n",
    "\n",
    "\"\"\"\n",
    "\n",
    "# Save our _config.yml in the book path\n",
    "yaml = YAML()\n",
    "config_file = open('../ibsp/_config.yml', 'w')\n",
    "yaml.dump(yaml.load(config_document_1), config_file)"
   ]
  },
  {
   "cell_type": "markdown",
   "id": "0c2b12ff-7a82-40f7-a34e-4770bc6cbd2b",
   "metadata": {},
   "source": [
    "# Step 3: Improve it"
   ]
  },
  {
   "cell_type": "markdown",
   "id": "3ddd2b7e-b13a-42ff-a0bf-8a0c92fab886",
   "metadata": {},
   "source": [
    "- Change the image that's displayed when the display flashes\n",
    "- Experiment with changing the power of the radio signal.\n",
    "  Use the 'radio set transmit power' block in MakeCode.\n",
    "  In Python use radio.config(power=7)\n",
    "  Pick a number between 0 (weakest radio signal) and 7 (strongest).\n",
    "  What effect does changing the radio power have?"
   ]
  },
  {
   "cell_type": "markdown",
   "id": "9a652b50-20e2-41aa-9475-15d13f60aa35",
   "metadata": {},
   "source": [
    "# Link"
   ]
  },
  {
   "cell_type": "markdown",
   "id": "224d0b48-8fec-479e-a1e0-066f9bfe4b34",
   "metadata": {},
   "source": [
    "[firefliespart1](https://microbit.org/projects/make-it-code-it/fireflies/?editor=makecode)"
   ]
  },
  {
   "cell_type": "code",
   "execution_count": null,
   "id": "1597ec97-db80-4f9c-a3b7-5773ef7ffb2e",
   "metadata": {},
   "outputs": [],
   "source": []
  }
 ],
 "metadata": {
  "kernelspec": {
   "display_name": "Python 3 (ipykernel)",
   "language": "python",
   "name": "python3"
  },
  "language_info": {
   "codemirror_mode": {
    "name": "ipython",
    "version": 3
   },
   "file_extension": ".py",
   "mimetype": "text/x-python",
   "name": "python",
   "nbconvert_exporter": "python",
   "pygments_lexer": "ipython3",
   "version": "3.10.2"
  }
 },
 "nbformat": 4,
 "nbformat_minor": 5
}